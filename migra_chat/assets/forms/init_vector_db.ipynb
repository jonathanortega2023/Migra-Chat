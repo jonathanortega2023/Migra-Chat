{
 "cells": [
  {
   "cell_type": "code",
   "execution_count": 9,
   "metadata": {},
   "outputs": [],
   "source": [
    "from langchain_community.document_loaders import DirectoryLoader, PDFMinerLoader, PyPDFLoader, PyMuPDFLoader, UnstructuredMarkdownLoader\n",
    "from langchain_objectbox.vectorstores import ObjectBox\n",
    "\n",
    "from langchain_community.embeddings import OllamaEmbeddings\n",
    "from langchain.text_splitter import RecursiveCharacterTextSplitter\n",
    "from langchain.schema import Document\n",
    "from glob import glob"
   ]
  },
  {
   "cell_type": "code",
   "execution_count": 10,
   "metadata": {},
   "outputs": [],
   "source": [
    "embeddings = OllamaEmbeddings(model=\"mxbai-embed-large\")"
   ]
  },
  {
   "cell_type": "code",
   "execution_count": 11,
   "metadata": {},
   "outputs": [],
   "source": [
    "def generate_data_store():\n",
    "    documents = load_pdfs_as_docs()\n",
    "    documents += load_mds_as_docs()\n",
    "    chunks = split_text(documents)\n",
    "    ObjectBox.from_documents(chunks, embeddings, embedding_dimensions=1024)\n",
    "\n",
    "def load_pdfs_as_docs():\n",
    "    # recursively look through folders in \"./\" to find files with 'instr.pdf' in the name using glob\n",
    "    dirs = glob('./**/*.pdf', recursive=True)\n",
    "    all_docs = []\n",
    "    for dir in dirs:\n",
    "        all_docs.extend(PyMuPDFLoader(dir).load())\n",
    "    return all_docs\n",
    "\n",
    "def load_mds_as_docs():\n",
    "    dirs = glob('/workspaces/MigraChat/model_playground/resources/Federal/Legislation/markdown_pages/*.md')\n",
    "    all_docs = []\n",
    "    for dir in dirs:\n",
    "        all_docs.extend(UnstructuredMarkdownLoader(dir).load())\n",
    "    return all_docs\n",
    "\n",
    "def split_text(documents: list):\n",
    "    text_splitter = RecursiveCharacterTextSplitter(\n",
    "        chunk_size=500,\n",
    "        chunk_overlap=200,\n",
    "        length_function=len,\n",
    "        add_start_index=True\n",
    "    )\n",
    "    return text_splitter.split_documents(documents)"
   ]
  },
  {
   "cell_type": "code",
   "execution_count": 12,
   "metadata": {},
   "outputs": [
    {
     "name": "stderr",
     "output_type": "stream",
     "text": [
      "WARNING:root:Model \"default\" already contains an entity type \"VectorEntity\"; replacing it.\n"
     ]
    }
   ],
   "source": [
    "generate_data_store()"
   ]
  }
 ],
 "metadata": {
  "kernelspec": {
   "display_name": ".venv",
   "language": "python",
   "name": "python3"
  },
  "language_info": {
   "codemirror_mode": {
    "name": "ipython",
    "version": 3
   },
   "file_extension": ".py",
   "mimetype": "text/x-python",
   "name": "python",
   "nbconvert_exporter": "python",
   "pygments_lexer": "ipython3",
   "version": "3.11.2"
  }
 },
 "nbformat": 4,
 "nbformat_minor": 2
}
