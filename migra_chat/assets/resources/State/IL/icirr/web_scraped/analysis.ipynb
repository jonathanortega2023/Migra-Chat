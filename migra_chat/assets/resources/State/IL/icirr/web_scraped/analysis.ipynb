{
 "cells": [
  {
   "cell_type": "code",
   "execution_count": 6,
   "metadata": {},
   "outputs": [],
   "source": [
    "from lingua import LanguageDetectorBuilder, Language, IsoCode639_1, IsoCode639_3\n",
    "import glob"
   ]
  },
  {
   "cell_type": "code",
   "execution_count": 7,
   "metadata": {},
   "outputs": [
    {
     "name": "stdout",
     "output_type": "stream",
     "text": [
      "./markdown_pages/10873080955222001404.md: IsoCode639_1.EN IsoCode639_3.ENG ENGLISH\n",
      "./markdown_pages/2030704020390246487.md: IsoCode639_1.EN IsoCode639_3.ENG ENGLISH\n",
      "./markdown_pages/2424454173029133074.md: IsoCode639_1.EN IsoCode639_3.ENG ENGLISH\n",
      "./markdown_pages/18274567678437251643.md: IsoCode639_1.EN IsoCode639_3.ENG ENGLISH\n",
      "./markdown_pages/12826966068577872880.md: IsoCode639_1.EN IsoCode639_3.ENG ENGLISH\n",
      "./markdown_pages/436949576432183014.md: IsoCode639_1.EN IsoCode639_3.ENG ENGLISH\n",
      "./markdown_pages/10684845796387423152.md: IsoCode639_1.EN IsoCode639_3.ENG ENGLISH\n",
      "./markdown_pages/3686874659062151219.md: IsoCode639_1.EN IsoCode639_3.ENG ENGLISH\n",
      "./markdown_pages/2740511015727925959.md: IsoCode639_1.EN IsoCode639_3.ENG ENGLISH\n",
      "./markdown_pages/12649644914449948873.md: IsoCode639_1.EN IsoCode639_3.ENG ENGLISH\n",
      "./markdown_pages/2339273249922423054.md: IsoCode639_1.EN IsoCode639_3.ENG ENGLISH\n",
      "./markdown_pages/15752210930068993025.md: IsoCode639_1.EN IsoCode639_3.ENG ENGLISH\n",
      "./markdown_pages/13097354105495099883.md: IsoCode639_1.EN IsoCode639_3.ENG ENGLISH\n",
      "./markdown_pages/8168148340843433394.md: IsoCode639_1.EN IsoCode639_3.ENG ENGLISH\n",
      "./markdown_pages/6869607140940868426.md: IsoCode639_1.EN IsoCode639_3.ENG ENGLISH\n",
      "./markdown_pages/2094056575126592607.md: IsoCode639_1.EN IsoCode639_3.ENG ENGLISH\n",
      "./markdown_pages/6573277984362961337.md: IsoCode639_1.EN IsoCode639_3.ENG ENGLISH\n",
      "./markdown_pages/2294809926511315685.md: IsoCode639_1.EN IsoCode639_3.ENG ENGLISH\n",
      "./markdown_pages/8583887677786206223.md: IsoCode639_1.EN IsoCode639_3.ENG ENGLISH\n",
      "./markdown_pages/12241294466317010466.md: IsoCode639_1.EN IsoCode639_3.ENG ENGLISH\n",
      "./markdown_pages/1463722544142712614.md: IsoCode639_1.EN IsoCode639_3.ENG ENGLISH\n",
      "./markdown_pages/8158122759034512951.md: IsoCode639_1.EN IsoCode639_3.ENG ENGLISH\n",
      "./markdown_pages/403540492025223909.md: IsoCode639_1.EN IsoCode639_3.ENG ENGLISH\n",
      "./markdown_pages/14594805923965723263.md: IsoCode639_1.EN IsoCode639_3.ENG ENGLISH\n",
      "./markdown_pages/7420659414159692392.md: IsoCode639_1.EN IsoCode639_3.ENG ENGLISH\n",
      "./markdown_pages/8553238188230342490.md: IsoCode639_1.ES IsoCode639_3.SPA SPANISH\n",
      "./markdown_pages/2445165703507734760.md: IsoCode639_1.EN IsoCode639_3.ENG ENGLISH\n",
      "./markdown_pages/2360746455826019405.md: IsoCode639_1.ES IsoCode639_3.SPA SPANISH\n",
      "./markdown_pages/13194419810706868167.md: IsoCode639_1.EN IsoCode639_3.ENG ENGLISH\n",
      "./markdown_pages/3476649390761738438.md: IsoCode639_1.EN IsoCode639_3.ENG ENGLISH\n",
      "./markdown_pages/5781760883971846348.md: IsoCode639_1.EN IsoCode639_3.ENG ENGLISH\n",
      "./markdown_pages/3820744339087039887.md: IsoCode639_1.ES IsoCode639_3.SPA SPANISH\n",
      "./markdown_pages/5899598567088485996.md: IsoCode639_1.EN IsoCode639_3.ENG ENGLISH\n",
      "./markdown_pages/16532948643823904490.md: IsoCode639_1.EN IsoCode639_3.ENG ENGLISH\n",
      "./markdown_pages/4463274566266161596.md: IsoCode639_1.EN IsoCode639_3.ENG ENGLISH\n",
      "./markdown_pages/5040896675263053294.md: IsoCode639_1.EN IsoCode639_3.ENG ENGLISH\n",
      "./markdown_pages/15799319790051977287.md: IsoCode639_1.EN IsoCode639_3.ENG ENGLISH\n",
      "./markdown_pages/10701945155324340690.md: IsoCode639_1.EN IsoCode639_3.ENG ENGLISH\n",
      "./markdown_pages/1699527015709707117.md: IsoCode639_1.EN IsoCode639_3.ENG ENGLISH\n",
      "./markdown_pages/1623058966837371871.md: IsoCode639_1.EN IsoCode639_3.ENG ENGLISH\n",
      "./markdown_pages/5967258015575238471.md: IsoCode639_1.EN IsoCode639_3.ENG ENGLISH\n",
      "./markdown_pages/3174447045228234833.md: IsoCode639_1.EN IsoCode639_3.ENG ENGLISH\n",
      "./markdown_pages/8775019554483028052.md: IsoCode639_1.EN IsoCode639_3.ENG ENGLISH\n",
      "./markdown_pages/16690830031016677033.md: IsoCode639_1.EN IsoCode639_3.ENG ENGLISH\n",
      "./markdown_pages/501446187806344791.md: IsoCode639_1.EN IsoCode639_3.ENG ENGLISH\n",
      "./markdown_pages/17373769980793814301.md: IsoCode639_1.EN IsoCode639_3.ENG ENGLISH\n",
      "./markdown_pages/1769287111392052834.md: IsoCode639_1.EN IsoCode639_3.ENG ENGLISH\n",
      "./markdown_pages/10577903964386496535.md: IsoCode639_1.EN IsoCode639_3.ENG ENGLISH\n",
      "./markdown_pages/10280850220838250025.md: IsoCode639_1.EN IsoCode639_3.ENG ENGLISH\n",
      "./markdown_pages/6907554849143228537.md: IsoCode639_1.EN IsoCode639_3.ENG ENGLISH\n",
      "./markdown_pages/13443250095091024346.md: IsoCode639_1.EN IsoCode639_3.ENG ENGLISH\n",
      "./markdown_pages/16522604668535670453.md: IsoCode639_1.EN IsoCode639_3.ENG ENGLISH\n",
      "./markdown_pages/15948937564941778002.md: IsoCode639_1.EN IsoCode639_3.ENG ENGLISH\n",
      "./markdown_pages/6505433387975307593.md: IsoCode639_1.EN IsoCode639_3.ENG ENGLISH\n",
      "./markdown_pages/18007684861857052639.md: IsoCode639_1.EN IsoCode639_3.ENG ENGLISH\n",
      "./markdown_pages/3981427136533029981.md: IsoCode639_1.EN IsoCode639_3.ENG ENGLISH\n",
      "./markdown_pages/6268571359692596356.md: IsoCode639_1.EN IsoCode639_3.ENG ENGLISH\n",
      "./markdown_pages/14731656817685989540.md: IsoCode639_1.EN IsoCode639_3.ENG ENGLISH\n",
      "./markdown_pages/12299387747792769875.md: IsoCode639_1.EN IsoCode639_3.ENG ENGLISH\n",
      "./markdown_pages/18098290779290837684.md: IsoCode639_1.EN IsoCode639_3.ENG ENGLISH\n",
      "./markdown_pages/14370116798422997765.md: IsoCode639_1.EN IsoCode639_3.ENG ENGLISH\n",
      "./markdown_pages/1456580871799788586.md: IsoCode639_1.EN IsoCode639_3.ENG ENGLISH\n",
      "./markdown_pages/16788542174814396455.md: IsoCode639_1.EN IsoCode639_3.ENG ENGLISH\n",
      "./markdown_pages/233623460886623868.md: IsoCode639_1.EN IsoCode639_3.ENG ENGLISH\n",
      "./markdown_pages/8043477133581695462.md: IsoCode639_1.EN IsoCode639_3.ENG ENGLISH\n",
      "./markdown_pages/1134915375953802008.md: IsoCode639_1.EN IsoCode639_3.ENG ENGLISH\n",
      "./markdown_pages/12985452402382510790.md: IsoCode639_1.EN IsoCode639_3.ENG ENGLISH\n",
      "./markdown_pages/14999484321619247554.md: IsoCode639_1.EN IsoCode639_3.ENG ENGLISH\n",
      "./markdown_pages/16304716166910466481.md: IsoCode639_1.EN IsoCode639_3.ENG ENGLISH\n",
      "./markdown_pages/17300526597894276481.md: IsoCode639_1.EN IsoCode639_3.ENG ENGLISH\n",
      "./markdown_pages/11205196314131163624.md: IsoCode639_1.EN IsoCode639_3.ENG ENGLISH\n",
      "./markdown_pages/17930987762645875047.md: IsoCode639_1.EN IsoCode639_3.ENG ENGLISH\n",
      "./markdown_pages/6193830486902188409.md: IsoCode639_1.EN IsoCode639_3.ENG ENGLISH\n",
      "./markdown_pages/14739613871731665503.md: IsoCode639_1.EN IsoCode639_3.ENG ENGLISH\n",
      "./markdown_pages/1523254255269738330.md: IsoCode639_1.YO IsoCode639_3.YOR YORUBA\n"
     ]
    }
   ],
   "source": [
    "languageDetector = LanguageDetectorBuilder.from_all_spoken_languages().build()\n",
    "files = glob.glob(\"./markdown_pages/*.md\")\n",
    "for file in files:\n",
    "    with open(file, 'r') as f:\n",
    "        text = f.read()\n",
    "        language = languageDetector.detect_language_of(text)\n",
    "        if language is not None:\n",
    "            print(f\"{file}: {language.iso_code_639_1} {language.iso_code_639_3} {language.name}\")\n",
    "        else:\n",
    "            print(f\"{file}: No language detected\")"
   ]
  }
 ],
 "metadata": {
  "kernelspec": {
   "display_name": ".venv",
   "language": "python",
   "name": "python3"
  },
  "language_info": {
   "codemirror_mode": {
    "name": "ipython",
    "version": 3
   },
   "file_extension": ".py",
   "mimetype": "text/x-python",
   "name": "python",
   "nbconvert_exporter": "python",
   "pygments_lexer": "ipython3",
   "version": "3.11.2"
  }
 },
 "nbformat": 4,
 "nbformat_minor": 2
}
