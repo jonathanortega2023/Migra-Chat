{
 "cells": [
  {
   "cell_type": "code",
   "execution_count": 1,
   "metadata": {},
   "outputs": [],
   "source": [
    "import argparse\n",
    "# from dataclasses import dataclass\n",
    "from langchain_community.vectorstores import Chroma\n",
    "from langchain_community.embeddings import OllamaEmbeddings\n",
    "from langchain_community.chat_models import ChatOllama\n",
    "from langchain.prompts import ChatPromptTemplate\n"
   ]
  },
  {
   "cell_type": "code",
   "execution_count": 2,
   "metadata": {},
   "outputs": [],
   "source": [
    "CHROMA_PATH = \"chroma\"\n",
    "\n",
    "PROMPT_TEMPLATE = \"\"\"\n",
    "Answer the question based only on the following context:\n",
    "\n",
    "{context}\n",
    "\n",
    "---\n",
    "\n",
    "Answer the question based on the above context: {question}\n",
    "\"\"\"\n",
    "CHAT_MODEL = ChatOllama(model='llama3:8b')\n",
    "EMBEDDING_MODEL = OllamaEmbeddings(model=\"mxbai-embed-large\")\n",
    "DB = Chroma(persist_directory=CHROMA_PATH, embedding_function=EMBEDDING_MODEL, collection_metadata={\"hnsw:space\": \"cosine\"}, collection_name='test')"
   ]
  },
  {
   "cell_type": "code",
   "execution_count": 3,
   "metadata": {},
   "outputs": [],
   "source": [
    "def get_input():\n",
    "    return input(\"Enter your response: \")\n",
    "\n",
    "def search_db(query_text):\n",
    "    db_results = DB.similarity_search_with_relevance_scores(query_text, k=1)\n",
    "    # if len(db_results) == 0 or db_results[0][1] < 0.7:\n",
    "    #     print(f\"Unable to find matching results.\")\n",
    "    #     return\n",
    "    return db_results\n",
    "\n",
    "def generate_prompt(db_results, query_text):\n",
    "    context_text = \"\\n\\n---\\n\\n\".join([doc.page_content for doc, _score in db_results])\n",
    "    prompt_template = ChatPromptTemplate.from_template(PROMPT_TEMPLATE)\n",
    "    prompt = prompt_template.format(context=context_text, question=query_text)\n",
    "    return prompt\n",
    "\n",
    "def generate_response(prompt):\n",
    "    return CHAT_MODEL.predict(prompt)\n",
    "\n",
    "def format_response(response_text, db_results):\n",
    "    sources = [doc.metadata.get(\"source\", None) for doc, _score in db_results]\n",
    "    return f\"Response: {response_text}\\nSources: {sources}\""
   ]
  },
  {
   "cell_type": "code",
   "execution_count": 4,
   "metadata": {},
   "outputs": [
    {
     "name": "stderr",
     "output_type": "stream",
     "text": [
      "/workspaces/MigraChat/.venv/lib/python3.11/site-packages/langchain_core/vectorstores.py:330: UserWarning: Relevance scores must be between 0 and 1, got [(Document(page_content=\"(b) The Secretary shall convene and preside at meetings of the Task Force, direct its work, and as appropriate, establish and direct subgroups of the Task Force that shall consist exclusively of Task Force members. The Secretary shall designate an official of the Department to serve as the Executive Secretary of the Task Force, and the Executive Secretary shall head the staff assigned to the Task Force.\\nSec. 3. Functions. Consistent with applicable law, the Task Force shall:\\n(a) provide direction to executive departments and agencies (agencies) concerning the integration into American society of America's legal immigrants, particularly through instruction in English, civics, and history;\\n(b) promote public-private partnerships that will encourage businesses to offer English and civics education to workers;\", metadata={'source': 'test_pages/156895302173890146.md', 'start_index': 37308}), -289.3330078125)]\n",
      "  warnings.warn(\n",
      "/workspaces/MigraChat/.venv/lib/python3.11/site-packages/langchain_core/_api/deprecation.py:117: LangChainDeprecationWarning: The function `predict` was deprecated in LangChain 0.1.7 and will be removed in 0.2.0. Use invoke instead.\n",
      "  warn_deprecated(\n"
     ]
    },
    {
     "name": "stdout",
     "output_type": "stream",
     "text": [
      "Response: According to the provided context, the powers and duties of the Secretary are:\n",
      "\n",
      "1. Convene and preside at meetings of the Task Force.\n",
      "2. Direct the work of the Task Force.\n",
      "3. Establish and direct subgroups of the Task Force, consisting exclusively of Task Force members.\n",
      "4. Designate an official of the Department to serve as the Executive Secretary of the Task Force.\n",
      "5. Head the staff assigned to the Task Force.\n",
      "\n",
      "These powers and duties are related to overseeing the work of the Task Force and ensuring its effective operation.\n",
      "Sources: ['test_pages/156895302173890146.md']\n"
     ]
    }
   ],
   "source": [
    "entry = get_input()\n",
    "db_results = search_db(entry)\n",
    "if db_results:\n",
    "    prompt = generate_prompt(db_results, entry)\n",
    "    response = generate_response(prompt)\n",
    "    print(format_response(response, db_results))"
   ]
  }
 ],
 "metadata": {
  "kernelspec": {
   "display_name": ".venv",
   "language": "python",
   "name": "python3"
  },
  "language_info": {
   "codemirror_mode": {
    "name": "ipython",
    "version": 3
   },
   "file_extension": ".py",
   "mimetype": "text/x-python",
   "name": "python",
   "nbconvert_exporter": "python",
   "pygments_lexer": "ipython3",
   "version": "3.11.2"
  }
 },
 "nbformat": 4,
 "nbformat_minor": 2
}
