{
 "cells": [
  {
   "cell_type": "code",
   "execution_count": 1,
   "metadata": {},
   "outputs": [],
   "source": [
    "from langchain_community.document_loaders import DirectoryLoader, UnstructuredMarkdownLoader\n",
    "from langchain_community.embeddings import OllamaEmbeddings\n",
    "from langchain_community.chat_models.ollama import ChatOllama\n",
    "from langchain_objectbox.vectorstores import ObjectBox\n",
    "from langchain.prompts import ChatPromptTemplate\n",
    "from objectbox import Store\n",
    "from langchain.text_splitter import RecursiveCharacterTextSplitter\n",
    "from langchain.schema import Document\n",
    "from langchain_community.vectorstores import FAISS\n",
    "\n",
    "import os\n",
    "import shutil"
   ]
  },
  {
   "cell_type": "code",
   "execution_count": 2,
   "metadata": {},
   "outputs": [],
   "source": [
    "EMBEDDING = OllamaEmbeddings(base_url=\"http://192.168.1.101:11434\", model=\"mxbai-embed-large\")\n",
    "CHAT_MODEL = ChatOllama(base_url=\"http://192.168.1.101:11434\", model='llama3.1', embedding=EMBEDDING)\n",
    "\n",
    "PROMPT_TEMPLATE = \"\"\"\n",
    "Answer the question based only on the following context:\n",
    "\n",
    "{context}\n",
    "\n",
    "---\n",
    "\n",
    "Answer the question based on the above context: {question}\n",
    "\"\"\""
   ]
  },
  {
   "cell_type": "code",
   "execution_count": 3,
   "metadata": {},
   "outputs": [],
   "source": [
    "objectbox = ObjectBox(embedding=EMBEDDING, embedding_dimensions=1024)"
   ]
  },
  {
   "cell_type": "code",
   "execution_count": 5,
   "metadata": {},
   "outputs": [],
   "source": [
    "def vector_search_db(query_text):\n",
    "    query_embedding = EMBEDDING.embed_query(query_text)\n",
    "    db_results = objectbox.similarity_search_by_vector(query_embedding, k=6)\n",
    "    return db_results\n",
    "\n",
    "def generate_prompt(db_results, query_text):\n",
    "    context_text = \"\\n\\n---\\n\\n\".join([doc.page_content for doc in db_results])\n",
    "    prompt_template = ChatPromptTemplate.from_template(PROMPT_TEMPLATE)\n",
    "    prompt = prompt_template.format(context=context_text, question=query_text)\n",
    "    return prompt\n",
    "\n",
    "def generate_response(prompt):\n",
    "    return CHAT_MODEL.invoke(prompt)\n",
    "\n",
    "def format_response(response_text, db_results):\n",
    "    sources = set([doc.metadata.get(\"source\", None) for doc in db_results])\n",
    "    sources = [source.split(\"/\",1)[-1].rsplit(\".\",1)[0] for source in sources if source is not None]\n",
    "    return f\"Response: {response_text}\\nSources: {sources}\""
   ]
  },
  {
   "cell_type": "code",
   "execution_count": 6,
   "metadata": {},
   "outputs": [
    {
     "name": "stdout",
     "output_type": "stream",
     "text": [
      "4 results found.\n"
     ]
    },
    {
     "name": "stderr",
     "output_type": "stream",
     "text": [
      "/workspaces/MigraChat/.venv/lib/python3.11/site-packages/langchain_core/_api/deprecation.py:139: LangChainDeprecationWarning: The method `BaseChatModel.predict` was deprecated in langchain-core 0.1.7 and will be removed in 0.3.0. Use invoke instead.\n",
      "  warn_deprecated(\n"
     ]
    },
    {
     "name": "stdout",
     "output_type": "stream",
     "text": [
      "Response: According to the provided context, the Secretary of State's duties include:\n",
      "\n",
      "1. Administration and enforcement of provisions in this chapter and all other immigration and nationality laws.\n",
      "2. Powers and duties concerning United States citizens, including those related to passports.\n",
      "3. Amending or revoking part 46 of title 22, Code of Federal Regulations, which concerns persons other than US citizens.\n",
      "\n",
      "Additionally, the Secretary of State is charged with the administration and enforcement of provisions related to:\n",
      "\n",
      "1. Diplomatic and consular officers' powers, duties, and functions (except for those related to visa granting or refusal).\n",
      "2. The Administrator's powers, duties, and functions.\n",
      "3. Determination of a person's nationality.\n",
      "\n",
      "Overall, the Secretary of State has broad authority and responsibility for various aspects of immigration, nationality, and diplomatic matters within the Department of State.\n",
      "Sources: ['8 USC 1185 Travel control of citizens and aliens', '8 USC 1104 Powers and duties of Secretary of State']\n"
     ]
    }
   ],
   "source": [
    "retriever = objectbox.as_retriever()\n",
    "query = \"What are the duties of the secretary of state?\"\n",
    "db_results = retriever.invoke(query, k=6)\n",
    "print(len(db_results), \"results found.\")\n",
    "prompt = generate_prompt(db_results, query)\n",
    "response = generate_response(prompt)\n",
    "formatted_response = format_response(response, db_results)\n",
    "print(formatted_response)"
   ]
  },
  {
   "cell_type": "code",
   "execution_count": 7,
   "metadata": {},
   "outputs": [
    {
     "name": "stdout",
     "output_type": "stream",
     "text": [
      "Response: Based on the provided context, the duties of the Secretary of State include:\n",
      "\n",
      "1. Administering and enforcing provisions of this chapter (Immigration and Nationality Act) and all other immigration and nationality laws.\n",
      "2. Exercising powers and functions under section 215(a) and (b) of the INA with respect to citizens of the United States, including those concerning United States passports.\n",
      "3. Amending or revoking part 46 of title 22, Code of Federal Regulations, which concerns persons other than citizens of the United States.\n",
      "4. Maintaining close liaison with the appropriate committees of Congress in order that they may be advised regarding the administration of this chapter by consular officers.\n",
      "\n",
      "The Secretary of State is also responsible for designating an Administrator who shall maintain close liaison with the appropriate committees of Congress and perform duties as designated by the Secretary of State.\n",
      "Sources: ['8 USC 1185 Travel control of citizens and aliens', '8 USC 1104 Powers and duties of Secretary of State']\n"
     ]
    }
   ],
   "source": [
    "query = \"What are the duties of the secretary of state?\"\n",
    "db_results = vector_search_db(query)\n",
    "if db_results:\n",
    "    prompt = generate_prompt(db_results, query)\n",
    "    response = generate_response(prompt)\n",
    "    print(format_response(response, db_results))"
   ]
  },
  {
   "cell_type": "code",
   "execution_count": 8,
   "metadata": {},
   "outputs": [],
   "source": [
    "CHAT_MODEL = ChatOllama(base_url=\"http://192.168.1.101:11434\", model='tinyllama', embedding=EMBEDDING)"
   ]
  },
  {
   "cell_type": "code",
   "execution_count": 9,
   "metadata": {},
   "outputs": [
    {
     "name": "stdout",
     "output_type": "stream",
     "text": [
      "4 results found.\n",
      "Response: The power and duties of the Secretary of State are:\n",
      "(a) Powers and duties\n",
      "\n",
      "-- (b) Functions of the Secretary of State\n",
      "\n",
      "To:\n",
      "1. Amend or revoke part 46 of Title 22, Code of Federal Regulations, concerning persons other than citizens of the United States\n",
      "\n",
      "To:\n",
      "2. Administer and enforce immigration and nationality laws relating to (1) powers, duties, and functions of diplomatic and consular officers of the United States, except those powers, duties, and functions conferred upon the Consular Officers relating to the granting or refusal of visas;\n",
      "(2) Powers, duties, and functions of the Administrator; and\n",
      "(3) Determination of nationality of a person.\n",
      "Sources: ['8 USC 1185 Travel control of citizens and aliens', '8 USC 1104 Powers and duties of Secretary of State']\n"
     ]
    }
   ],
   "source": [
    "retriever = objectbox.as_retriever()\n",
    "query = \"What are the duties of the secretary of state?\"\n",
    "db_results = retriever.invoke(query, k=6)\n",
    "print(len(db_results), \"results found.\")\n",
    "prompt = generate_prompt(db_results, query)\n",
    "response = generate_response(prompt)\n",
    "formatted_response = format_response(response, db_results)\n",
    "print(formatted_response)"
   ]
  },
  {
   "cell_type": "code",
   "execution_count": 19,
   "metadata": {},
   "outputs": [
    {
     "name": "stdout",
     "output_type": "stream",
     "text": [
      "Response: The section states that the Secretary of State is assigned the functions of the President under Section 215(a) and (b) of the INA with respect to citizens of the United States, including those functions concerning United States passports. In exercising these functions, the Secretary of State shall be charged with the administration and the enforcement of immigration and nationality laws relating to persons other than citizens of the United States. The section further states that the Secretary of State has power to have and exercise any authority vested by law in any official or office of Department of State and references to such officials or offices deemed to refer to the Secretary of State, or the Department of State, as appropriate. Therefore, the section specifies the duties of the secretary of state as those related to United States passports and nationality laws.\n",
      "Sources: ['8 USC 1185 Travel control of citizens and aliens', '8 USC 1104 Powers and duties of Secretary of State']\n"
     ]
    }
   ],
   "source": [
    "query = \"What are the duties of the secretary of state?\"\n",
    "db_results = vector_search_db(query)\n",
    "if db_results:\n",
    "    prompt = generate_prompt(db_results, query)\n",
    "    response = generate_response(prompt)\n",
    "    print(format_response(response, db_results))"
   ]
  },
  {
   "cell_type": "code",
   "execution_count": 16,
   "metadata": {},
   "outputs": [
    {
     "name": "stdout",
     "output_type": "stream",
     "text": [
      "{\"response\":\"Response: content='The Secretary of State is assigned the functions of the President under section 215(a) and (b) of the INA with respect to citizens of the United States, including those functions concerning United States passports. In addition, the Secretary may amend or revoke part 46 of title 22, Code of Federal Regulations, which concern persons other than citizens of the United States. The Secretary shall have and exercise any authority vested by law in any official or office of Department of State, and shall maintain close liason with the approprite committees of Congress to ensure that they can be advised regarding the administration of this chapter by consular officers. The Administrator is a citizen of the United States qualified by experience who maintains close liasion with the approprite committees of Congress, and shall perform such other duties as are designated by the Secretary of State.' response_metadata={'model': 'tinyllama', 'created_at': '2024-08-02T13:32:39.321760845Z', 'message': {'role': 'assistant', 'content': ''}, 'done_reason': 'stop', 'done': True, 'total_duration': 89670727882, 'load_duration': 1067892837, 'prompt_eval_count': 679, 'prompt_eval_duration': 65314388000, 'eval_count': 188, 'eval_duration': 23227521000} id='run-1c75a93d-55bf-4c9e-a76c-af399062a784-0'\\nSources: ['8 USC 1104 Powers and duties of Secretary of State', '8 USC 1185 Travel control of citizens and aliens']\"}\n",
      "\n"
     ]
    }
   ],
   "source": [
    "import requests\n",
    "\n",
    "# make post request to 192.168.1.101/query\n",
    "\n",
    "query = \"What are the duties of the secretary of state?\"\n",
    "response = requests.post(\"http://192.168.1.101:8000/query\", json={\"query\": query})\n",
    "print(response.text)"
   ]
  }
 ],
 "metadata": {
  "kernelspec": {
   "display_name": ".venv",
   "language": "python",
   "name": "python3"
  },
  "language_info": {
   "codemirror_mode": {
    "name": "ipython",
    "version": 3
   },
   "file_extension": ".py",
   "mimetype": "text/x-python",
   "name": "python",
   "nbconvert_exporter": "python",
   "pygments_lexer": "ipython3",
   "version": "3.11.2"
  }
 },
 "nbformat": 4,
 "nbformat_minor": 2
}
