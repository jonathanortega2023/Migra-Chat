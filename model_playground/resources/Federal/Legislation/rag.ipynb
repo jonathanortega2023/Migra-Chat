{
 "cells": [
  {
   "cell_type": "code",
   "execution_count": 1,
   "metadata": {},
   "outputs": [],
   "source": [
    "from langchain_community.document_loaders import DirectoryLoader, UnstructuredMarkdownLoader\n",
    "from langchain_community.embeddings import OllamaEmbeddings\n",
    "from langchain_community.chat_models.ollama import ChatOllama\n",
    "from langchain_objectbox.vectorstores import ObjectBox\n",
    "from langchain.prompts import ChatPromptTemplate\n",
    "from objectbox import Store\n",
    "from langchain.text_splitter import RecursiveCharacterTextSplitter\n",
    "from langchain.schema import Document\n",
    "from langchain_community.vectorstores import FAISS\n",
    "\n",
    "import os\n",
    "import shutil"
   ]
  },
  {
   "cell_type": "code",
   "execution_count": 21,
   "metadata": {},
   "outputs": [],
   "source": [
    "EMBEDDING = OllamaEmbeddings(model=\"mxbai-embed-large\")\n",
    "\n",
    "PROMPT_TEMPLATE = \"\"\"\n",
    "Answer the question based only on the following context:\n",
    "\n",
    "{context}\n",
    "\n",
    "---\n",
    "\n",
    "Answer the question based on the above context: {question}\n",
    "\"\"\"\n",
    "\n",
    "CHAT_MODEL = ChatOllama(model='llama3.1:8b', embedding=EMBEDDING)\n"
   ]
  },
  {
   "cell_type": "code",
   "execution_count": 3,
   "metadata": {},
   "outputs": [],
   "source": [
    "objectbox = ObjectBox(embedding=EMBEDDING, embedding_dimensions=1024)"
   ]
  },
  {
   "cell_type": "code",
   "execution_count": 33,
   "metadata": {},
   "outputs": [],
   "source": [
    "def vector_search_db(query_text):\n",
    "    query_embedding = EMBEDDING.embed_query(query_text)\n",
    "    db_results = objectbox.similarity_search_by_vector(query_embedding, k=6)\n",
    "    return db_results\n",
    "\n",
    "def generate_prompt(db_results, query_text):\n",
    "    context_text = \"\\n\\n---\\n\\n\".join([doc.page_content for doc in db_results])\n",
    "    prompt_template = ChatPromptTemplate.from_template(PROMPT_TEMPLATE)\n",
    "    prompt = prompt_template.format(context=context_text, question=query_text)\n",
    "    return prompt\n",
    "\n",
    "def generate_response(prompt):\n",
    "    return CHAT_MODEL.predict(prompt)\n",
    "\n",
    "def format_response(response_text, db_results):\n",
    "    sources = set([doc.metadata.get(\"source\", None) for doc in db_results])\n",
    "    sources = [source.split(\"/\",1)[-1].rsplit(\".\",1)[0] for source in sources if source is not None]\n",
    "    return f\"Response: {response_text}\\nSources: {sources}\""
   ]
  },
  {
   "cell_type": "code",
   "execution_count": 36,
   "metadata": {},
   "outputs": [
    {
     "name": "stdout",
     "output_type": "stream",
     "text": [
      "4 results found.\n",
      "Response: According to the provided context, the duties of the Secretary of State include:\n",
      "\n",
      "*   Administration and enforcement of immigration and nationality laws\n",
      "*   Determination of nationality of a person\n",
      "*   Functions concerning United States passports (with respect to citizens of the United States)\n",
      "*   Amendment or revocation of part 46 of title 22, Code of Federal Regulations (concerning persons other than citizens of the United States)\n",
      "*   Administration and enforcement of provisions of this chapter and all other immigration and nationality laws relating to diplomatic and consular officers of the United States.\n",
      "Sources: ['8 USC 1185 Travel control of citizens and aliens', '8 USC 1104 Powers and duties of Secretary of State']\n"
     ]
    }
   ],
   "source": [
    "retriever = objectbox.as_retriever()\n",
    "query = \"What are the duties of the secretary of state?\"\n",
    "db_results = retriever.invoke(query, k=6)\n",
    "print(len(db_results), \"results found.\")\n",
    "prompt = generate_prompt(db_results, query)\n",
    "response = generate_response(prompt)\n",
    "formatted_response = format_response(response, db_results)\n",
    "print(formatted_response)"
   ]
  },
  {
   "cell_type": "code",
   "execution_count": 34,
   "metadata": {},
   "outputs": [
    {
     "name": "stdout",
     "output_type": "stream",
     "text": [
      "Response: According to Section 1104 of the United States Code, the duties of the Secretary of State include:\n",
      "\n",
      "* Administering and enforcing the provisions of Chapter 1104 and all other immigration and nationality laws relating to:\n",
      "\t+ The powers, duties, and functions of diplomatic and consular officers of the United States (except for those related to granting or refusing visas)\n",
      "\t+ The powers, duties, and functions of the Administrator\n",
      "\t+ The determination of nationality of a person\n",
      "* Exercising any authority vested by law in any official or office of the Department of State\n",
      "* Maintaining close liaison with the appropriate committees of Congress regarding the administration of this chapter by consular officers\n",
      "* Designating an Administrator who shall be responsible for:\n",
      "\t+ Maintaining close liaison with the appropriate committees of Congress regarding the administration of this chapter by consular officers\n",
      "\t+ Performing duties delegated to them by the Secretary of State\n",
      "Sources: ['8 USC 1185 Travel control of citizens and aliens', '8 USC 1104 Powers and duties of Secretary of State']\n"
     ]
    }
   ],
   "source": [
    "query = \"What are the duties of the secretary of state?\"\n",
    "db_results = vector_search_db(query)\n",
    "# for doc in db_results:\n",
    "#     print(doc.metadata.get(\"source\", None).split(\"/\", 1)[-1])\n",
    "if db_results:\n",
    "    prompt = generate_prompt(db_results, query)\n",
    "    response = generate_response(prompt)\n",
    "    print(format_response(response, db_results))"
   ]
  }
 ],
 "metadata": {
  "kernelspec": {
   "display_name": ".venv",
   "language": "python",
   "name": "python3"
  },
  "language_info": {
   "codemirror_mode": {
    "name": "ipython",
    "version": 3
   },
   "file_extension": ".py",
   "mimetype": "text/x-python",
   "name": "python",
   "nbconvert_exporter": "python",
   "pygments_lexer": "ipython3",
   "version": "3.11.2"
  }
 },
 "nbformat": 4,
 "nbformat_minor": 2
}
