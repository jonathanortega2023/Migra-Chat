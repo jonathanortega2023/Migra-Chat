{
 "cells": [
  {
   "cell_type": "code",
   "execution_count": 13,
   "metadata": {},
   "outputs": [],
   "source": [
    "from markdownify import markdownify as md\n",
    "import glob\n",
    "import re"
   ]
  },
  {
   "cell_type": "code",
   "execution_count": 14,
   "metadata": {},
   "outputs": [
    {
     "name": "stdout",
     "output_type": "stream",
     "text": [
      "Wrote 18274567678437251643.md\n",
      "Wrote 3174447045228234833.md\n",
      "Wrote 2294809926511315685.md\n",
      "Wrote 14370116798422997765.md\n",
      "Wrote 16690830031016677033.md\n",
      "Wrote 8775019554483028052.md\n",
      "Wrote 1134915375953802008.md\n",
      "Wrote 3981427136533029981.md\n",
      "Wrote 436949576432183014.md\n",
      "Wrote 6505433387975307593.md\n",
      "Wrote 1463722544142712614.md\n",
      "Wrote 10701945155324340690.md\n",
      "Wrote 1523254255269738330.md\n",
      "Wrote 1699527015709707117.md\n",
      "Wrote 4463274566266161596.md\n",
      "Wrote 2740511015727925959.md\n",
      "Wrote 12649644914449948873.md\n",
      "Wrote 7420659414159692392.md\n",
      "Wrote 18007684861857052639.md\n",
      "Wrote 16522604668535670453.md\n",
      "Wrote 2030704020390246487.md\n",
      "Wrote 8553238188230342490.md\n",
      "Wrote 10873080955222001404.md\n",
      "Wrote 11205196314131163624.md\n",
      "Wrote 8043477133581695462.md\n",
      "Wrote 14739613871731665503.md\n",
      "Wrote 16532948643823904490.md\n",
      "Wrote 2339273249922423054.md\n",
      "Wrote 1769287111392052834.md\n",
      "Wrote 6907554849143228537.md\n",
      "Wrote 8168148340843433394.md\n",
      "Wrote 16788542174814396455.md\n",
      "Wrote 15948937564941778002.md\n",
      "Wrote 17930987762645875047.md\n",
      "Wrote 16304716166910466481.md\n",
      "Wrote 12985452402382510790.md\n",
      "Wrote 2445165703507734760.md\n",
      "Wrote 15799319790051977287.md\n",
      "Wrote 8158122759034512951.md\n",
      "Wrote 5899598567088485996.md\n",
      "Wrote 233623460886623868.md\n",
      "Wrote 10280850220838250025.md\n",
      "Wrote 6869607140940868426.md\n",
      "Wrote 17300526597894276481.md\n",
      "Wrote 3476649390761738438.md\n",
      "Wrote 3820744339087039887.md\n",
      "Wrote 501446187806344791.md\n",
      "Wrote 18098290779290837684.md\n",
      "Wrote 10577903964386496535.md\n",
      "Wrote 15752210930068993025.md\n",
      "Wrote 10684845796387423152.md\n",
      "Wrote 3686874659062151219.md\n",
      "Wrote 1623058966837371871.md\n",
      "Wrote 6573277984362961337.md\n",
      "Wrote 2094056575126592607.md\n",
      "Wrote 2360746455826019405.md\n",
      "Wrote 5967258015575238471.md\n",
      "Wrote 5040896675263053294.md\n",
      "Wrote 12299387747792769875.md\n",
      "Wrote 1456580871799788586.md\n",
      "Wrote 12826966068577872880.md\n",
      "Wrote 14594805923965723263.md\n",
      "Wrote 403540492025223909.md\n",
      "Wrote 8583887677786206223.md\n",
      "Wrote 5781760883971846348.md\n",
      "Wrote 13097354105495099883.md\n",
      "Wrote 13194419810706868167.md\n",
      "Wrote 13443250095091024346.md\n",
      "Wrote 14731656817685989540.md\n",
      "Wrote 12241294466317010466.md\n",
      "Wrote 17373769980793814301.md\n",
      "Wrote 6193830486902188409.md\n",
      "Wrote 14999484321619247554.md\n",
      "Wrote 2424454173029133074.md\n",
      "Wrote 6268571359692596356.md\n"
     ]
    }
   ],
   "source": [
    "# get files ./parsed_html/*.html\n",
    "files = glob.glob('./raw_files/*.html')\n",
    "# write to new file in ./markdown_pages/*.md\n",
    "for file in files:\n",
    "    with open(file, 'r') as f:\n",
    "        html = f.read()\n",
    "        markdown = md(html)\n",
    "        # clean md, remove extra newlines\n",
    "        markdown = re.sub(r'\\n+', '\\n', markdown)\n",
    "        filename = file.split('/')[-1].replace('.html', '.md')\n",
    "        with open(f'./markdown_pages/{filename}', 'w') as m:\n",
    "            m.write(markdown)\n",
    "            print(f'Wrote {filename}')"
   ]
  }
 ],
 "metadata": {
  "kernelspec": {
   "display_name": ".venv",
   "language": "python",
   "name": "python3"
  },
  "language_info": {
   "codemirror_mode": {
    "name": "ipython",
    "version": 3
   },
   "file_extension": ".py",
   "mimetype": "text/x-python",
   "name": "python",
   "nbconvert_exporter": "python",
   "pygments_lexer": "ipython3",
   "version": "3.11.2"
  }
 },
 "nbformat": 4,
 "nbformat_minor": 2
}
